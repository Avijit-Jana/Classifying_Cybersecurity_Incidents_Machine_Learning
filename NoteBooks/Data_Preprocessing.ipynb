{
 "cells": [
  {
   "cell_type": "markdown",
   "metadata": {},
   "source": [
    "# Importing Libraries & load data"
   ]
  },
  {
   "cell_type": "code",
   "execution_count": 1,
   "metadata": {
    "colab": {
     "base_uri": "https://localhost:8080/"
    },
    "id": "3qbE-4ZdtY7N",
    "outputId": "150e2d3c-afbb-46e9-a049-df0f1e14daeb"
   },
   "outputs": [],
   "source": [
    "import pandas as pd\n",
    "import numpy as np\n",
    "import seaborn as sns\n",
    "import matplotlib.pyplot as plt"
   ]
  },
  {
   "cell_type": "code",
   "execution_count": 2,
   "metadata": {},
   "outputs": [
    {
     "data": {
      "text/html": [
       "<div>\n",
       "<style scoped>\n",
       "    .dataframe tbody tr th:only-of-type {\n",
       "        vertical-align: middle;\n",
       "    }\n",
       "\n",
       "    .dataframe tbody tr th {\n",
       "        vertical-align: top;\n",
       "    }\n",
       "\n",
       "    .dataframe thead th {\n",
       "        text-align: right;\n",
       "    }\n",
       "</style>\n",
       "<table border=\"1\" class=\"dataframe\">\n",
       "  <thead>\n",
       "    <tr style=\"text-align: right;\">\n",
       "      <th></th>\n",
       "      <th>Id</th>\n",
       "      <th>OrgId</th>\n",
       "      <th>IncidentId</th>\n",
       "      <th>AlertId</th>\n",
       "      <th>Timestamp</th>\n",
       "      <th>DetectorId</th>\n",
       "      <th>AlertTitle</th>\n",
       "      <th>Category</th>\n",
       "      <th>MitreTechniques</th>\n",
       "      <th>IncidentGrade</th>\n",
       "      <th>...</th>\n",
       "      <th>ResourceType</th>\n",
       "      <th>Roles</th>\n",
       "      <th>OSFamily</th>\n",
       "      <th>OSVersion</th>\n",
       "      <th>AntispamDirection</th>\n",
       "      <th>SuspicionLevel</th>\n",
       "      <th>LastVerdict</th>\n",
       "      <th>CountryCode</th>\n",
       "      <th>State</th>\n",
       "      <th>City</th>\n",
       "    </tr>\n",
       "  </thead>\n",
       "  <tbody>\n",
       "    <tr>\n",
       "      <th>0</th>\n",
       "      <td>180388628218</td>\n",
       "      <td>0</td>\n",
       "      <td>612</td>\n",
       "      <td>123247</td>\n",
       "      <td>2024-06-04T06:05:15.000Z</td>\n",
       "      <td>7</td>\n",
       "      <td>6</td>\n",
       "      <td>InitialAccess</td>\n",
       "      <td>NaN</td>\n",
       "      <td>TruePositive</td>\n",
       "      <td>...</td>\n",
       "      <td>NaN</td>\n",
       "      <td>NaN</td>\n",
       "      <td>5</td>\n",
       "      <td>66</td>\n",
       "      <td>NaN</td>\n",
       "      <td>NaN</td>\n",
       "      <td>NaN</td>\n",
       "      <td>31</td>\n",
       "      <td>6</td>\n",
       "      <td>3</td>\n",
       "    </tr>\n",
       "    <tr>\n",
       "      <th>1</th>\n",
       "      <td>455266534868</td>\n",
       "      <td>88</td>\n",
       "      <td>326</td>\n",
       "      <td>210035</td>\n",
       "      <td>2024-06-14T03:01:25.000Z</td>\n",
       "      <td>58</td>\n",
       "      <td>43</td>\n",
       "      <td>Exfiltration</td>\n",
       "      <td>NaN</td>\n",
       "      <td>FalsePositive</td>\n",
       "      <td>...</td>\n",
       "      <td>NaN</td>\n",
       "      <td>NaN</td>\n",
       "      <td>5</td>\n",
       "      <td>66</td>\n",
       "      <td>NaN</td>\n",
       "      <td>NaN</td>\n",
       "      <td>NaN</td>\n",
       "      <td>242</td>\n",
       "      <td>1445</td>\n",
       "      <td>10630</td>\n",
       "    </tr>\n",
       "    <tr>\n",
       "      <th>2</th>\n",
       "      <td>1056561957389</td>\n",
       "      <td>809</td>\n",
       "      <td>58352</td>\n",
       "      <td>712507</td>\n",
       "      <td>2024-06-13T04:52:55.000Z</td>\n",
       "      <td>423</td>\n",
       "      <td>298</td>\n",
       "      <td>InitialAccess</td>\n",
       "      <td>T1189</td>\n",
       "      <td>FalsePositive</td>\n",
       "      <td>...</td>\n",
       "      <td>NaN</td>\n",
       "      <td>NaN</td>\n",
       "      <td>5</td>\n",
       "      <td>66</td>\n",
       "      <td>NaN</td>\n",
       "      <td>Suspicious</td>\n",
       "      <td>Suspicious</td>\n",
       "      <td>242</td>\n",
       "      <td>1445</td>\n",
       "      <td>10630</td>\n",
       "    </tr>\n",
       "  </tbody>\n",
       "</table>\n",
       "<p>3 rows × 45 columns</p>\n",
       "</div>"
      ],
      "text/plain": [
       "              Id  OrgId  IncidentId  AlertId                 Timestamp  \\\n",
       "0   180388628218      0         612   123247  2024-06-04T06:05:15.000Z   \n",
       "1   455266534868     88         326   210035  2024-06-14T03:01:25.000Z   \n",
       "2  1056561957389    809       58352   712507  2024-06-13T04:52:55.000Z   \n",
       "\n",
       "   DetectorId  AlertTitle       Category MitreTechniques  IncidentGrade  ...  \\\n",
       "0           7           6  InitialAccess             NaN   TruePositive  ...   \n",
       "1          58          43   Exfiltration             NaN  FalsePositive  ...   \n",
       "2         423         298  InitialAccess           T1189  FalsePositive  ...   \n",
       "\n",
       "  ResourceType Roles OSFamily OSVersion  AntispamDirection  SuspicionLevel  \\\n",
       "0          NaN   NaN        5        66                NaN             NaN   \n",
       "1          NaN   NaN        5        66                NaN             NaN   \n",
       "2          NaN   NaN        5        66                NaN      Suspicious   \n",
       "\n",
       "   LastVerdict  CountryCode  State   City  \n",
       "0          NaN           31      6      3  \n",
       "1          NaN          242   1445  10630  \n",
       "2   Suspicious          242   1445  10630  \n",
       "\n",
       "[3 rows x 45 columns]"
      ]
     },
     "execution_count": 2,
     "metadata": {},
     "output_type": "execute_result"
    }
   ],
   "source": [
    "df = pd.read_csv('../Dataset/GUIDE_Train.csv')  # Load the dataset\n",
    "df.head(3)"
   ]
  },
  {
   "cell_type": "markdown",
   "metadata": {},
   "source": [
    "# Handling Missing Values"
   ]
  },
  {
   "cell_type": "code",
   "execution_count": 5,
   "metadata": {},
   "outputs": [
    {
     "name": "stdout",
     "output_type": "stream",
     "text": [
      "Missing Values:\n",
      " Id                          0\n",
      "OrgId                       0\n",
      "IncidentId                  0\n",
      "AlertId                     0\n",
      "Timestamp                   0\n",
      "DetectorId                  0\n",
      "AlertTitle                  0\n",
      "Category                    0\n",
      "MitreTechniques       5468386\n",
      "IncidentGrade           51340\n",
      "ActionGrouped         9460773\n",
      "ActionGranular        9460773\n",
      "EntityType                  0\n",
      "EvidenceRole                0\n",
      "DeviceId                    0\n",
      "Sha256                      0\n",
      "IpAddress                   0\n",
      "Url                         0\n",
      "AccountSid                  0\n",
      "AccountUpn                  0\n",
      "AccountObjectId             0\n",
      "AccountName                 0\n",
      "DeviceName                  0\n",
      "NetworkMessageId            0\n",
      "EmailClusterId        9420025\n",
      "RegistryKey                 0\n",
      "RegistryValueName           0\n",
      "RegistryValueData           0\n",
      "ApplicationId               0\n",
      "ApplicationName             0\n",
      "OAuthApplicationId          0\n",
      "ThreatFamily          9441956\n",
      "FileName                    0\n",
      "FolderPath                  0\n",
      "ResourceIdName              0\n",
      "ResourceType          9509762\n",
      "Roles                 9298686\n",
      "OSFamily                    0\n",
      "OSVersion                   0\n",
      "AntispamDirection     9339535\n",
      "SuspicionLevel        8072708\n",
      "LastVerdict           7282572\n",
      "CountryCode                 0\n",
      "State                       0\n",
      "City                        0\n",
      "dtype: int64\n"
     ]
    }
   ],
   "source": [
    "# Identify missing values\n",
    "print(\"Missing Values:\\n\", df.isnull().sum())"
   ]
  },
  {
   "cell_type": "code",
   "execution_count": 6,
   "metadata": {},
   "outputs": [],
   "source": [
    "missing_threshold = 0.5  # Remove columns with more than 50% missing values\n",
    "\n",
    "# 1. Remove columns with a high percentage of missing values\n",
    "missing_percentage = df.isnull().mean()\n",
    "columns_to_drop = missing_percentage[missing_percentage > missing_threshold].index\n",
    "df.drop(columns=columns_to_drop, inplace=True)"
   ]
  },
  {
   "cell_type": "code",
   "execution_count": 9,
   "metadata": {},
   "outputs": [
    {
     "name": "stdout",
     "output_type": "stream",
     "text": [
      "Missing Values:\n",
      " Id                        0\n",
      "OrgId                     0\n",
      "IncidentId                0\n",
      "AlertId                   0\n",
      "Timestamp                 0\n",
      "DetectorId                0\n",
      "AlertTitle                0\n",
      "Category                  0\n",
      "IncidentGrade         51340\n",
      "EntityType                0\n",
      "EvidenceRole              0\n",
      "DeviceId                  0\n",
      "Sha256                    0\n",
      "IpAddress                 0\n",
      "Url                       0\n",
      "AccountSid                0\n",
      "AccountUpn                0\n",
      "AccountObjectId           0\n",
      "AccountName               0\n",
      "DeviceName                0\n",
      "NetworkMessageId          0\n",
      "RegistryKey               0\n",
      "RegistryValueName         0\n",
      "RegistryValueData         0\n",
      "ApplicationId             0\n",
      "ApplicationName           0\n",
      "OAuthApplicationId        0\n",
      "FileName                  0\n",
      "FolderPath                0\n",
      "ResourceIdName            0\n",
      "OSFamily                  0\n",
      "OSVersion                 0\n",
      "CountryCode               0\n",
      "State                     0\n",
      "City                      0\n",
      "dtype: int64\n"
     ]
    }
   ],
   "source": [
    "# Identify missing values\n",
    "print(\"Missing Values:\\n\", df.isnull().sum())"
   ]
  },
  {
   "cell_type": "code",
   "execution_count": 10,
   "metadata": {},
   "outputs": [
    {
     "data": {
      "text/plain": [
       "(9516837, 35)"
      ]
     },
     "execution_count": 10,
     "metadata": {},
     "output_type": "execute_result"
    }
   ],
   "source": [
    "df.shape"
   ]
  }
 ],
 "metadata": {
  "colab": {
   "authorship_tag": "ABX9TyPbqYDMC1kOYxiUNm4o/pqD",
   "mount_file_id": "112yOxEmQ4qFzNIFMqrmQpOIuO5pdNxzf",
   "provenance": []
  },
  "kernelspec": {
   "display_name": "myenv",
   "language": "python",
   "name": "python3"
  },
  "language_info": {
   "codemirror_mode": {
    "name": "ipython",
    "version": 3
   },
   "file_extension": ".py",
   "mimetype": "text/x-python",
   "name": "python",
   "nbconvert_exporter": "python",
   "pygments_lexer": "ipython3",
   "version": "3.13.0"
  }
 },
 "nbformat": 4,
 "nbformat_minor": 0
}
