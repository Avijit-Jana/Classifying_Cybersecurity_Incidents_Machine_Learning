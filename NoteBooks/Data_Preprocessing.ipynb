{
 "cells": [
  {
   "cell_type": "markdown",
   "metadata": {},
   "source": [
    "# Handling Missing Values"
   ]
  },
  {
   "cell_type": "code",
   "execution_count": 1,
   "metadata": {
    "colab": {
     "base_uri": "https://localhost:8080/"
    },
    "id": "3qbE-4ZdtY7N",
    "outputId": "150e2d3c-afbb-46e9-a049-df0f1e14daeb"
   },
   "outputs": [],
   "source": [
    "import pandas as pd\n",
    "import numpy as np\n",
    "import seaborn as sns\n",
    "import matplotlib.pyplot as plt\n",
    "\n",
    "# Load the dataset\n",
    "df = pd.read_csv('../Dataset/GUIDE_Train.csv')  "
   ]
  },
  {
   "cell_type": "code",
   "execution_count": 2,
   "metadata": {},
   "outputs": [
    {
     "name": "stdout",
     "output_type": "stream",
     "text": [
      "Missing Values:\n",
      " Id                          0\n",
      "OrgId                       0\n",
      "IncidentId                  0\n",
      "AlertId                     0\n",
      "Timestamp                   0\n",
      "DetectorId                  0\n",
      "AlertTitle                  0\n",
      "Category                    0\n",
      "MitreTechniques       5468386\n",
      "IncidentGrade           51340\n",
      "ActionGrouped         9460773\n",
      "ActionGranular        9460773\n",
      "EntityType                  0\n",
      "EvidenceRole                0\n",
      "DeviceId                    0\n",
      "Sha256                      0\n",
      "IpAddress                   0\n",
      "Url                         0\n",
      "AccountSid                  0\n",
      "AccountUpn                  0\n",
      "AccountObjectId             0\n",
      "AccountName                 0\n",
      "DeviceName                  0\n",
      "NetworkMessageId            0\n",
      "EmailClusterId        9420025\n",
      "RegistryKey                 0\n",
      "RegistryValueName           0\n",
      "RegistryValueData           0\n",
      "ApplicationId               0\n",
      "ApplicationName             0\n",
      "OAuthApplicationId          0\n",
      "ThreatFamily          9441956\n",
      "FileName                    0\n",
      "FolderPath                  0\n",
      "ResourceIdName              0\n",
      "ResourceType          9509762\n",
      "Roles                 9298686\n",
      "OSFamily                    0\n",
      "OSVersion                   0\n",
      "AntispamDirection     9339535\n",
      "SuspicionLevel        8072708\n",
      "LastVerdict           7282572\n",
      "CountryCode                 0\n",
      "State                       0\n",
      "City                        0\n",
      "dtype: int64\n"
     ]
    }
   ],
   "source": [
    "# Identify missing values\n",
    "print(\"Missing Values:\\n\", df.isnull().sum())"
   ]
  },
  {
   "cell_type": "code",
   "execution_count": 3,
   "metadata": {},
   "outputs": [],
   "source": [
    "missing_threshold = 0.5  # set the threshold for missing values\n",
    "\n",
    "# 1. Remove columns with more than 50% of missing values\n",
    "missing_percentage = df.isnull().mean()\n",
    "columns_to_drop = missing_percentage[missing_percentage > missing_threshold].index\n",
    "df.drop(columns=columns_to_drop, inplace=True)"
   ]
  },
  {
   "cell_type": "code",
   "execution_count": 4,
   "metadata": {},
   "outputs": [
    {
     "data": {
      "text/plain": [
       "Id                        0\n",
       "OrgId                     0\n",
       "IncidentId                0\n",
       "AlertId                   0\n",
       "Timestamp                 0\n",
       "DetectorId                0\n",
       "AlertTitle                0\n",
       "Category                  0\n",
       "IncidentGrade         51340\n",
       "EntityType                0\n",
       "EvidenceRole              0\n",
       "DeviceId                  0\n",
       "Sha256                    0\n",
       "IpAddress                 0\n",
       "Url                       0\n",
       "AccountSid                0\n",
       "AccountUpn                0\n",
       "AccountObjectId           0\n",
       "AccountName               0\n",
       "DeviceName                0\n",
       "NetworkMessageId          0\n",
       "RegistryKey               0\n",
       "RegistryValueName         0\n",
       "RegistryValueData         0\n",
       "ApplicationId             0\n",
       "ApplicationName           0\n",
       "OAuthApplicationId        0\n",
       "FileName                  0\n",
       "FolderPath                0\n",
       "ResourceIdName            0\n",
       "OSFamily                  0\n",
       "OSVersion                 0\n",
       "CountryCode               0\n",
       "State                     0\n",
       "City                      0\n",
       "dtype: int64"
      ]
     },
     "execution_count": 4,
     "metadata": {},
     "output_type": "execute_result"
    }
   ],
   "source": [
    "df.isnull().sum()"
   ]
  },
  {
   "cell_type": "code",
   "execution_count": null,
   "metadata": {},
   "outputs": [],
   "source": [
    "# fill missing values with the mode of the column\n",
    "df['IncidentGrade'].fillna(df['IncidentGrade'].mode()[0], inplace=True)"
   ]
  },
  {
   "cell_type": "code",
   "execution_count": null,
   "metadata": {},
   "outputs": [],
   "source": [
    "# remove duplicates\n",
    "df.drop_duplicates(inplace=True)    "
   ]
  },
  {
   "cell_type": "markdown",
   "metadata": {},
   "source": [
    "# Removing Outliers"
   ]
  },
  {
   "cell_type": "code",
   "execution_count": 20,
   "metadata": {},
   "outputs": [],
   "source": [
    "# Separate categorical and numerical columns\n",
    "categorical_columns = df.select_dtypes(include=['object']).columns.tolist()\n",
    "numerical_columns = df.select_dtypes(include=['number']).columns.tolist()\n",
    "categorical_columns.remove('IncidentGrade')"
   ]
  },
  {
   "cell_type": "code",
   "execution_count": 23,
   "metadata": {},
   "outputs": [
    {
     "name": "stdout",
     "output_type": "stream",
     "text": [
      "Before removing outliers: (8970539, 35)\n",
      "After removing outliers: (4910238, 35)\n"
     ]
    }
   ],
   "source": [
    "from scipy.stats import zscore    # importing the zscore function\n",
    "import numpy as np                # importing the numpy library \n",
    "\n",
    "# function to remove outliers\n",
    "def remove_outliers(df, threshold=3):\n",
    "    numerical_df = df.select_dtypes(include=[np.number])    # Select only numerical columns\n",
    "    z_scores = np.abs((numerical_df - numerical_df.mean()) / numerical_df.std())    # calculating the zscore\n",
    "\n",
    "    # Filter out rows with Z-scores above the threshold in any column\n",
    "    df_clean = df[(z_scores < threshold).all(axis=1)].copy()\n",
    "    return df_clean     # returning the dataframe\n",
    "\n",
    "print(\"Before removing outliers:\", df.shape)    # printing the shape of the dataframe\n",
    "\n",
    "# Remove outliers using Z-score\n",
    "df = remove_outliers(df)  \n",
    "\n",
    "print(\"After removing outliers:\", df.shape)             # printing the shape of the dataframe"
   ]
  },
  {
   "cell_type": "markdown",
   "metadata": {},
   "source": [
    "# Feature Engineering"
   ]
  },
  {
   "cell_type": "code",
   "execution_count": 19,
   "metadata": {},
   "outputs": [
    {
     "name": "stdout",
     "output_type": "stream",
     "text": [
      "Numerical Features Kept: ['Id', 'OrgId', 'IncidentId', 'AlertId', 'DetectorId', 'AlertTitle', 'DeviceId', 'Sha256', 'IpAddress', 'Url', 'AccountSid', 'AccountUpn', 'AccountObjectId', 'AccountName', 'DeviceName', 'NetworkMessageId', 'RegistryKey', 'RegistryValueName', 'RegistryValueData', 'ApplicationId', 'ApplicationName', 'OAuthApplicationId', 'FileName', 'FolderPath', 'ResourceIdName', 'OSFamily', 'OSVersion', 'CountryCode', 'State', 'City']\n",
      "Numerical Features Dropped: []\n"
     ]
    }
   ],
   "source": [
    "from sklearn.feature_selection import f_classif, chi2\n",
    "\n",
    "target = 'IncidentGrade'    # target column\n",
    "# Perform ANOVA test (f_classif)\n",
    "anova_scores, p_values = f_classif(df[numerical_columns], df[target])\n",
    "\n",
    "# Set significance threshold for feature selection\n",
    "significance_level = 0.05\n",
    "numerical_to_keep = [num for num, p in zip(numerical_columns, p_values) if p < significance_level]\n",
    "numerical_to_drop = [num for num, p in zip(numerical_columns, p_values) if p >= significance_level]\n",
    "\n",
    "print(f\"Numerical Features Kept: {numerical_to_keep}\")\n",
    "print(f\"Numerical Features Dropped: {numerical_to_drop}\")"
   ]
  },
  {
   "cell_type": "code",
   "execution_count": null,
   "metadata": {},
   "outputs": [],
   "source": [
    "from scipy.stats import f_oneway, chi2_contingency\n",
    "\n",
    "target = 'IncidentGrade'    # target column\n",
    "\n",
    "# ANOVA Test for n  umerical columns\n",
    "significant_numerical = []\n",
    "for num_col in numerical_columns:\n",
    "    groups = [df[df[target] == cat][num_col] for cat in df['IncidentGrade'].unique()]\n",
    "    f_stat, p_val = f_oneway(*groups)\n",
    "    if p_val < 0.05:  # Significant relationship\n",
    "        significant_numerical.append(num_col)"
   ]
  },
  {
   "cell_type": "code",
   "execution_count": null,
   "metadata": {},
   "outputs": [],
   "source": [
    "from scipy.stats import f_oneway, chi2_contingency\n",
    "\n",
    "# ANOVA Test for numerical columns\n",
    "significant_numerical = []\n",
    "for num_col in numerical_columns:\n",
    "    groups = [df[df['IncidentGrade'] == cat][num_col] for cat in df['IncidentGrade'].unique()]\n",
    "    f_stat, p_val = f_oneway(*groups)\n",
    "    if p_val < 0.05:  # Significant relationship\n",
    "        significant_numerical.append(num_col)\n",
    "\n",
    "# Chi-Square Test for categorical columns\n",
    "significant_categorical = []\n",
    "for cat_col in categorical_columns:\n",
    "    contingency_table = pd.crosstab(df[cat_col], df['IncidentGrade'])\n",
    "    chi2, p_val, _, _ = chi2_contingency(contingency_table)\n",
    "    if p_val < 0.05:  # Significant relationship\n",
    "        significant_categorical.append(cat_col)"
   ]
  },
  {
   "cell_type": "code",
   "execution_count": null,
   "metadata": {},
   "outputs": [],
   "source": [
    "df[significant_numerical + significant_categorical + ['IncidentGrade']]"
   ]
  },
  {
   "cell_type": "markdown",
   "metadata": {},
   "source": [
    "# Encoding Catagorical Variables"
   ]
  },
  {
   "cell_type": "code",
   "execution_count": null,
   "metadata": {},
   "outputs": [],
   "source": []
  }
 ],
 "metadata": {
  "colab": {
   "authorship_tag": "ABX9TyPbqYDMC1kOYxiUNm4o/pqD",
   "mount_file_id": "112yOxEmQ4qFzNIFMqrmQpOIuO5pdNxzf",
   "provenance": []
  },
  "kernelspec": {
   "display_name": "myenv",
   "language": "python",
   "name": "python3"
  },
  "language_info": {
   "codemirror_mode": {
    "name": "ipython",
    "version": 3
   },
   "file_extension": ".py",
   "mimetype": "text/x-python",
   "name": "python",
   "nbconvert_exporter": "python",
   "pygments_lexer": "ipython3",
   "version": "3.13.0"
  }
 },
 "nbformat": 4,
 "nbformat_minor": 0
}
